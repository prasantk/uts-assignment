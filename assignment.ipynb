{
  "nbformat": 4,
  "nbformat_minor": 0,
  "metadata": {
    "colab": {
      "name": "assignment.ipynb",
      "provenance": [],
      "collapsed_sections": []
    },
    "kernelspec": {
      "name": "python3",
      "display_name": "Python 3"
    }
  },
  "cells": [
    {
      "cell_type": "code",
      "metadata": {
        "id": "BD2aIML4MjpE",
        "colab_type": "code",
        "colab": {}
      },
      "source": [
        "from google.colab import drive\n",
        "import warnings\n",
        "warnings.filterwarnings('ignore')"
      ],
      "execution_count": null,
      "outputs": []
    },
    {
      "cell_type": "code",
      "metadata": {
        "id": "LY3HBSRKM3CN",
        "colab_type": "code",
        "colab": {
          "base_uri": "https://localhost:8080/",
          "height": 34
        },
        "outputId": "ade712d4-ef0c-45b0-db3d-eaf3266a1645"
      },
      "source": [
        "# Mount the google drive\n",
        "drive.mount('/gdrive')"
      ],
      "execution_count": null,
      "outputs": [
        {
          "output_type": "stream",
          "text": [
            "Drive already mounted at /gdrive; to attempt to forcibly remount, call drive.mount(\"/gdrive\", force_remount=True).\n"
          ],
          "name": "stdout"
        }
      ]
    },
    {
      "cell_type": "code",
      "metadata": {
        "id": "sQTmKW2GNFA0",
        "colab_type": "code",
        "colab": {}
      },
      "source": [
        "DATASET_PATH = \"/gdrive/My Drive/UTS/assignment/datasets\"\n",
        "#MODEL_SAVE_PATH = \"/gdrive/My Drive/UTS/assignment/models\"\n",
        "KAGGLE_SUBMISSION_PATH = \"/gdrive/My Drive/UTS/assignment/kaggle-submissions\""
      ],
      "execution_count": null,
      "outputs": []
    },
    {
      "cell_type": "code",
      "metadata": {
        "id": "bdcipDpiNSND",
        "colab_type": "code",
        "colab": {
          "base_uri": "https://localhost:8080/",
          "height": 34
        },
        "outputId": "afb85223-35ba-4ff0-8154-28bf92a3d2dc"
      },
      "source": [
        "print(DATASET_PATH)"
      ],
      "execution_count": null,
      "outputs": [
        {
          "output_type": "stream",
          "text": [
            "/gdrive/My Drive/UTS/assignment/datasets\n"
          ],
          "name": "stdout"
        }
      ]
    },
    {
      "cell_type": "code",
      "metadata": {
        "id": "dHSOkEh-NXQp",
        "colab_type": "code",
        "colab": {}
      },
      "source": [
        "import os\n",
        "import pandas as pd\n",
        "\n",
        "def load_data(filename, dataset_path=DATASET_PATH):\n",
        "    csv_path = os.path.join(dataset_path, filename)\n",
        "    return pd.read_csv(csv_path)"
      ],
      "execution_count": null,
      "outputs": []
    },
    {
      "cell_type": "code",
      "metadata": {
        "id": "t_bErrWQOgYT",
        "colab_type": "code",
        "colab": {}
      },
      "source": [
        "# Load the training and test set\n",
        "train_data = load_data(\"TrainingSet.csv\")\n",
        "test_data = load_data(\"TestingSet.csv\")"
      ],
      "execution_count": null,
      "outputs": []
    },
    {
      "cell_type": "markdown",
      "metadata": {
        "id": "ULzQ3iTYk_hY",
        "colab_type": "text"
      },
      "source": [
        "# Exploratory Data Analysis (EDA)"
      ]
    },
    {
      "cell_type": "code",
      "metadata": {
        "id": "8AgE3jkROxfD",
        "colab_type": "code",
        "colab": {
          "base_uri": "https://localhost:8080/",
          "height": 360
        },
        "outputId": "4f08adc0-5a23-4e9b-9c17-a08f2bbf3c6b"
      },
      "source": [
        "# Let's take a peek at the top few rows of the training set:\n",
        "train_data.head()"
      ],
      "execution_count": null,
      "outputs": [
        {
          "output_type": "execute_result",
          "data": {
            "text/html": [
              "<div>\n",
              "<style scoped>\n",
              "    .dataframe tbody tr th:only-of-type {\n",
              "        vertical-align: middle;\n",
              "    }\n",
              "\n",
              "    .dataframe tbody tr th {\n",
              "        vertical-align: top;\n",
              "    }\n",
              "\n",
              "    .dataframe thead th {\n",
              "        text-align: right;\n",
              "    }\n",
              "</style>\n",
              "<table border=\"1\" class=\"dataframe\">\n",
              "  <thead>\n",
              "    <tr style=\"text-align: right;\">\n",
              "      <th></th>\n",
              "      <th>row ID</th>\n",
              "      <th>SSL</th>\n",
              "      <th>BATHRM</th>\n",
              "      <th>HF_BATHRM</th>\n",
              "      <th>HEAT</th>\n",
              "      <th>HEAT_D</th>\n",
              "      <th>AC</th>\n",
              "      <th>NUM_UNITS</th>\n",
              "      <th>ROOMS</th>\n",
              "      <th>BEDRM</th>\n",
              "      <th>AYB</th>\n",
              "      <th>YR_RMDL</th>\n",
              "      <th>EYB</th>\n",
              "      <th>STORIES</th>\n",
              "      <th>SALEDATE</th>\n",
              "      <th>PRICE</th>\n",
              "      <th>QUALIFIED</th>\n",
              "      <th>SALE_NUM</th>\n",
              "      <th>GBA</th>\n",
              "      <th>BLDG_NUM</th>\n",
              "      <th>STYLE</th>\n",
              "      <th>STYLE_D</th>\n",
              "      <th>STRUCT</th>\n",
              "      <th>STRUCT_D</th>\n",
              "      <th>GRADE</th>\n",
              "      <th>GRADE_D</th>\n",
              "      <th>CNDTN</th>\n",
              "      <th>CNDTN_D</th>\n",
              "      <th>EXTWALL</th>\n",
              "      <th>EXTWALL_D</th>\n",
              "      <th>ROOF</th>\n",
              "      <th>ROOF_D</th>\n",
              "      <th>INTWALL</th>\n",
              "      <th>INTWALL_D</th>\n",
              "      <th>KITCHENS</th>\n",
              "      <th>FIREPLACES</th>\n",
              "      <th>USECODE</th>\n",
              "      <th>LANDAREA</th>\n",
              "      <th>GIS_LAST_MOD_DTTM</th>\n",
              "    </tr>\n",
              "  </thead>\n",
              "  <tbody>\n",
              "    <tr>\n",
              "      <th>0</th>\n",
              "      <td>28915</td>\n",
              "      <td>1605    0050</td>\n",
              "      <td>2.0</td>\n",
              "      <td>0.0</td>\n",
              "      <td>13.0</td>\n",
              "      <td>Hot Water Rad</td>\n",
              "      <td>Y</td>\n",
              "      <td>1.0</td>\n",
              "      <td>6.0</td>\n",
              "      <td>3.0</td>\n",
              "      <td>1926.0</td>\n",
              "      <td>2001.0</td>\n",
              "      <td>1970</td>\n",
              "      <td>2.0</td>\n",
              "      <td>2012-06-13T00:00:00.000Z</td>\n",
              "      <td>810000.0</td>\n",
              "      <td>1</td>\n",
              "      <td>1</td>\n",
              "      <td>1431</td>\n",
              "      <td>1</td>\n",
              "      <td>4.0</td>\n",
              "      <td>2 Story</td>\n",
              "      <td>1.0</td>\n",
              "      <td>Single</td>\n",
              "      <td>6.0</td>\n",
              "      <td>Very Good</td>\n",
              "      <td>3.0</td>\n",
              "      <td>Average</td>\n",
              "      <td>5.0</td>\n",
              "      <td>Stucco</td>\n",
              "      <td>1.0</td>\n",
              "      <td>Comp Shingle</td>\n",
              "      <td>6.0</td>\n",
              "      <td>Hardwood</td>\n",
              "      <td>1.0</td>\n",
              "      <td>1.0</td>\n",
              "      <td>12</td>\n",
              "      <td>3750</td>\n",
              "      <td>2018-07-22T18:01:43.000Z</td>\n",
              "    </tr>\n",
              "    <tr>\n",
              "      <th>1</th>\n",
              "      <td>36804</td>\n",
              "      <td>2256    0831</td>\n",
              "      <td>3.0</td>\n",
              "      <td>1.0</td>\n",
              "      <td>1.0</td>\n",
              "      <td>Forced Air</td>\n",
              "      <td>Y</td>\n",
              "      <td>1.0</td>\n",
              "      <td>10.0</td>\n",
              "      <td>4.0</td>\n",
              "      <td>1964.0</td>\n",
              "      <td>2008.0</td>\n",
              "      <td>1992</td>\n",
              "      <td>2.0</td>\n",
              "      <td>1993-06-21T00:00:00.000Z</td>\n",
              "      <td>350000.0</td>\n",
              "      <td>0</td>\n",
              "      <td>1</td>\n",
              "      <td>2904</td>\n",
              "      <td>1</td>\n",
              "      <td>4.0</td>\n",
              "      <td>2 Story</td>\n",
              "      <td>1.0</td>\n",
              "      <td>Single</td>\n",
              "      <td>5.0</td>\n",
              "      <td>Good Quality</td>\n",
              "      <td>4.0</td>\n",
              "      <td>Good</td>\n",
              "      <td>22.0</td>\n",
              "      <td>Brick/Siding</td>\n",
              "      <td>1.0</td>\n",
              "      <td>Comp Shingle</td>\n",
              "      <td>6.0</td>\n",
              "      <td>Hardwood</td>\n",
              "      <td>1.0</td>\n",
              "      <td>2.0</td>\n",
              "      <td>12</td>\n",
              "      <td>7480</td>\n",
              "      <td>2018-07-22T18:01:43.000Z</td>\n",
              "    </tr>\n",
              "    <tr>\n",
              "      <th>2</th>\n",
              "      <td>11913</td>\n",
              "      <td>0938    0021</td>\n",
              "      <td>2.0</td>\n",
              "      <td>1.0</td>\n",
              "      <td>1.0</td>\n",
              "      <td>Forced Air</td>\n",
              "      <td>Y</td>\n",
              "      <td>1.0</td>\n",
              "      <td>9.0</td>\n",
              "      <td>3.0</td>\n",
              "      <td>1908.0</td>\n",
              "      <td>NaN</td>\n",
              "      <td>1960</td>\n",
              "      <td>2.0</td>\n",
              "      <td>1900-01-01T00:00:00.000Z</td>\n",
              "      <td>NaN</td>\n",
              "      <td>0</td>\n",
              "      <td>1</td>\n",
              "      <td>1914</td>\n",
              "      <td>1</td>\n",
              "      <td>4.0</td>\n",
              "      <td>2 Story</td>\n",
              "      <td>6.0</td>\n",
              "      <td>Row End</td>\n",
              "      <td>5.0</td>\n",
              "      <td>Good Quality</td>\n",
              "      <td>3.0</td>\n",
              "      <td>Average</td>\n",
              "      <td>14.0</td>\n",
              "      <td>Common Brick</td>\n",
              "      <td>5.0</td>\n",
              "      <td>Metal- Pre</td>\n",
              "      <td>3.0</td>\n",
              "      <td>Wood Floor</td>\n",
              "      <td>1.0</td>\n",
              "      <td>1.0</td>\n",
              "      <td>11</td>\n",
              "      <td>1603</td>\n",
              "      <td>2018-07-22T18:01:43.000Z</td>\n",
              "    </tr>\n",
              "    <tr>\n",
              "      <th>3</th>\n",
              "      <td>41326</td>\n",
              "      <td>2588    0025</td>\n",
              "      <td>2.0</td>\n",
              "      <td>1.0</td>\n",
              "      <td>7.0</td>\n",
              "      <td>Warm Cool</td>\n",
              "      <td>Y</td>\n",
              "      <td>2.0</td>\n",
              "      <td>6.0</td>\n",
              "      <td>3.0</td>\n",
              "      <td>1925.0</td>\n",
              "      <td>2016.0</td>\n",
              "      <td>1957</td>\n",
              "      <td>2.0</td>\n",
              "      <td>2000-10-16T00:00:00.000Z</td>\n",
              "      <td>371000.0</td>\n",
              "      <td>1</td>\n",
              "      <td>1</td>\n",
              "      <td>1680</td>\n",
              "      <td>1</td>\n",
              "      <td>4.0</td>\n",
              "      <td>2 Story</td>\n",
              "      <td>7.0</td>\n",
              "      <td>Row Inside</td>\n",
              "      <td>4.0</td>\n",
              "      <td>Above Average</td>\n",
              "      <td>3.0</td>\n",
              "      <td>Average</td>\n",
              "      <td>14.0</td>\n",
              "      <td>Common Brick</td>\n",
              "      <td>6.0</td>\n",
              "      <td>Metal- Sms</td>\n",
              "      <td>6.0</td>\n",
              "      <td>Hardwood</td>\n",
              "      <td>2.0</td>\n",
              "      <td>1.0</td>\n",
              "      <td>24</td>\n",
              "      <td>1760</td>\n",
              "      <td>2018-07-22T18:01:43.000Z</td>\n",
              "    </tr>\n",
              "    <tr>\n",
              "      <th>4</th>\n",
              "      <td>88621</td>\n",
              "      <td>5154    0906</td>\n",
              "      <td>1.0</td>\n",
              "      <td>0.0</td>\n",
              "      <td>13.0</td>\n",
              "      <td>Hot Water Rad</td>\n",
              "      <td>N</td>\n",
              "      <td>1.0</td>\n",
              "      <td>6.0</td>\n",
              "      <td>2.0</td>\n",
              "      <td>1923.0</td>\n",
              "      <td>NaN</td>\n",
              "      <td>1936</td>\n",
              "      <td>2.0</td>\n",
              "      <td>2014-02-06T00:00:00.000Z</td>\n",
              "      <td>74900.0</td>\n",
              "      <td>0</td>\n",
              "      <td>1</td>\n",
              "      <td>1024</td>\n",
              "      <td>1</td>\n",
              "      <td>4.0</td>\n",
              "      <td>2 Story</td>\n",
              "      <td>1.0</td>\n",
              "      <td>Single</td>\n",
              "      <td>2.0</td>\n",
              "      <td>Fair Quality</td>\n",
              "      <td>3.0</td>\n",
              "      <td>Average</td>\n",
              "      <td>15.0</td>\n",
              "      <td>Face Brick</td>\n",
              "      <td>1.0</td>\n",
              "      <td>Comp Shingle</td>\n",
              "      <td>6.0</td>\n",
              "      <td>Hardwood</td>\n",
              "      <td>1.0</td>\n",
              "      <td>0.0</td>\n",
              "      <td>12</td>\n",
              "      <td>5000</td>\n",
              "      <td>2018-07-22T18:01:43.000Z</td>\n",
              "    </tr>\n",
              "  </tbody>\n",
              "</table>\n",
              "</div>"
            ],
            "text/plain": [
              "   row ID           SSL  BATHRM  ...  USECODE  LANDAREA         GIS_LAST_MOD_DTTM\n",
              "0   28915  1605    0050     2.0  ...       12      3750  2018-07-22T18:01:43.000Z\n",
              "1   36804  2256    0831     3.0  ...       12      7480  2018-07-22T18:01:43.000Z\n",
              "2   11913  0938    0021     2.0  ...       11      1603  2018-07-22T18:01:43.000Z\n",
              "3   41326  2588    0025     2.0  ...       24      1760  2018-07-22T18:01:43.000Z\n",
              "4   88621  5154    0906     1.0  ...       12      5000  2018-07-22T18:01:43.000Z\n",
              "\n",
              "[5 rows x 39 columns]"
            ]
          },
          "metadata": {
            "tags": []
          },
          "execution_count": 101
        }
      ]
    },
    {
      "cell_type": "code",
      "metadata": {
        "id": "4UEJ_RhkO-Z4",
        "colab_type": "code",
        "colab": {}
      },
      "source": [
        "# dropped the row ID column from the train set as I won’t need this for training the model\n",
        "train_data = train_data.drop('row ID', axis=1)"
      ],
      "execution_count": null,
      "outputs": []
    },
    {
      "cell_type": "code",
      "metadata": {
        "id": "kvTtFwtBPQZe",
        "colab_type": "code",
        "colab": {}
      },
      "source": [
        "# Function to calculate no. of null values with percentage in the dataframe\n",
        "def null_values(DataFrame_Name):\n",
        "    \n",
        "    sum_null = DataFrame_Name.isnull().sum()\n",
        "    total_count = DataFrame_Name.isnull().count()\n",
        "    percent_nullvalues = sum_null/total_count * 100\n",
        "    df_null = pd.DataFrame()\n",
        "    df_null['Total_values'] = total_count\n",
        "    df_null['Null_Count'] = sum_null\n",
        "    df_null['Percent'] = percent_nullvalues\n",
        "    df_null = df_null.sort_values(by='Null_Count',ascending = False)\n",
        "\n",
        "    return(df_null)"
      ],
      "execution_count": null,
      "outputs": []
    },
    {
      "cell_type": "code",
      "metadata": {
        "id": "NoOYt7BqZKtn",
        "colab_type": "code",
        "colab": {}
      },
      "source": [
        "def describe_data(df):\n",
        "    print(\"Data Types:\")\n",
        "    print(df.dtypes)\n",
        "    print(\"=============\\n\")\n",
        "    print(\"Rows and Columns:\")\n",
        "    print(df.shape)\n",
        "    print(\"=============\\n\")\n",
        "    print(\"Column Names:\")\n",
        "    print(df.columns)\n",
        "    print(\"=============\\n\")\n",
        "    print(\"Null Values:\")\n",
        "    print(null_values(df))"
      ],
      "execution_count": null,
      "outputs": []
    },
    {
      "cell_type": "code",
      "metadata": {
        "id": "27D2CoxxPeA0",
        "colab_type": "code",
        "colab": {
          "base_uri": "https://localhost:8080/",
          "height": 1000
        },
        "outputId": "5c2d1d7f-488d-497b-e5f1-fd46a623c382"
      },
      "source": [
        "describe_data(train_data)"
      ],
      "execution_count": null,
      "outputs": [
        {
          "output_type": "stream",
          "text": [
            "Data Types:\n",
            "SSL                   object\n",
            "BATHRM               float64\n",
            "HF_BATHRM            float64\n",
            "HEAT                 float64\n",
            "HEAT_D                object\n",
            "AC                    object\n",
            "NUM_UNITS            float64\n",
            "ROOMS                float64\n",
            "BEDRM                float64\n",
            "AYB                  float64\n",
            "YR_RMDL              float64\n",
            "EYB                    int64\n",
            "STORIES              float64\n",
            "SALEDATE              object\n",
            "PRICE                float64\n",
            "QUALIFIED              int64\n",
            "SALE_NUM               int64\n",
            "GBA                    int64\n",
            "BLDG_NUM               int64\n",
            "STYLE                float64\n",
            "STYLE_D               object\n",
            "STRUCT               float64\n",
            "STRUCT_D              object\n",
            "GRADE                float64\n",
            "GRADE_D               object\n",
            "CNDTN                float64\n",
            "CNDTN_D               object\n",
            "EXTWALL              float64\n",
            "EXTWALL_D             object\n",
            "ROOF                 float64\n",
            "ROOF_D                object\n",
            "INTWALL              float64\n",
            "INTWALL_D             object\n",
            "KITCHENS             float64\n",
            "FIREPLACES           float64\n",
            "USECODE                int64\n",
            "LANDAREA               int64\n",
            "GIS_LAST_MOD_DTTM     object\n",
            "dtype: object\n",
            "=============\n",
            "\n",
            "Rows and Columns:\n",
            "(75007, 38)\n",
            "=============\n",
            "\n",
            "Column Names:\n",
            "Index(['SSL', 'BATHRM', 'HF_BATHRM', 'HEAT', 'HEAT_D', 'AC', 'NUM_UNITS',\n",
            "       'ROOMS', 'BEDRM', 'AYB', 'YR_RMDL', 'EYB', 'STORIES', 'SALEDATE',\n",
            "       'PRICE', 'QUALIFIED', 'SALE_NUM', 'GBA', 'BLDG_NUM', 'STYLE', 'STYLE_D',\n",
            "       'STRUCT', 'STRUCT_D', 'GRADE', 'GRADE_D', 'CNDTN', 'CNDTN_D', 'EXTWALL',\n",
            "       'EXTWALL_D', 'ROOF', 'ROOF_D', 'INTWALL', 'INTWALL_D', 'KITCHENS',\n",
            "       'FIREPLACES', 'USECODE', 'LANDAREA', 'GIS_LAST_MOD_DTTM'],\n",
            "      dtype='object')\n",
            "=============\n",
            "\n",
            "Null Values:\n",
            "                   Total_values  Null_Count    Percent\n",
            "YR_RMDL                   75007       40371  53.822977\n",
            "PRICE                     75007       13611  18.146306\n",
            "STORIES                   75007          60   0.079993\n",
            "ROOMS                     75007          30   0.039996\n",
            "BEDRM                     75007          23   0.030664\n",
            "FIREPLACES                75007          22   0.029331\n",
            "HF_BATHRM                 75007          22   0.029331\n",
            "GRADE                     75007          21   0.027997\n",
            "STYLE_D                   75007          21   0.027997\n",
            "STRUCT                    75007          21   0.027997\n",
            "STRUCT_D                  75007          21   0.027997\n",
            "GRADE_D                   75007          21   0.027997\n",
            "INTWALL                   75007          21   0.027997\n",
            "CNDTN                     75007          21   0.027997\n",
            "CNDTN_D                   75007          21   0.027997\n",
            "EXTWALL                   75007          21   0.027997\n",
            "EXTWALL_D                 75007          21   0.027997\n",
            "BATHRM                    75007          21   0.027997\n",
            "STYLE                     75007          21   0.027997\n",
            "INTWALL_D                 75007          21   0.027997\n",
            "KITCHENS                  75007          21   0.027997\n",
            "ROOF_D                    75007          21   0.027997\n",
            "NUM_UNITS                 75007          21   0.027997\n",
            "AC                        75007          21   0.027997\n",
            "HEAT_D                    75007          21   0.027997\n",
            "HEAT                      75007          21   0.027997\n",
            "ROOF                      75007          21   0.027997\n",
            "AYB                       75007          11   0.014665\n",
            "USECODE                   75007           0   0.000000\n",
            "LANDAREA                  75007           0   0.000000\n",
            "SSL                       75007           0   0.000000\n",
            "BLDG_NUM                  75007           0   0.000000\n",
            "GBA                       75007           0   0.000000\n",
            "SALE_NUM                  75007           0   0.000000\n",
            "QUALIFIED                 75007           0   0.000000\n",
            "SALEDATE                  75007           0   0.000000\n",
            "EYB                       75007           0   0.000000\n",
            "GIS_LAST_MOD_DTTM         75007           0   0.000000\n"
          ],
          "name": "stdout"
        }
      ]
    },
    {
      "cell_type": "markdown",
      "metadata": {
        "id": "AlgKfhMgPuhQ",
        "colab_type": "text"
      },
      "source": [
        "\n",
        "\n",
        "\n",
        "*   Okay, the 'BATHRM', 'HF_BATHRM', 'HEAT', 'HEAT_D', 'AC','NUM_UNITS', 'ROOMS', 'BEDRM', 'AYB', 'YR_RMDL', 'STORIES', 'PRICE', 'STYLE', 'STYLE_D', 'STRUCT', 'STRUCT_D', 'GRADE', 'GRADE_D','CNDTN','CNDTN_D', 'EXTWALL', 'EXTWALL_D', 'ROOF', 'ROOF_D', 'INTWALL','INTWALL_D', 'KITCHENS', 'FIREPLACES' attributes are sometimes null (less than 75007 non-null), especially the YR_RMDL (53% are null).\n",
        "*   The PRICE attribute has about 18% null values, so we will need to decide what to do with them. Replacing null values with the median PRICE seems reasonable.\n",
        "\n",
        "\n"
      ]
    },
    {
      "cell_type": "code",
      "metadata": {
        "id": "PJFchJ8PRTtL",
        "colab_type": "code",
        "colab": {
          "base_uri": "https://localhost:8080/",
          "height": 855
        },
        "outputId": "1168e588-d66a-48be-d4ba-0b068f007ff0"
      },
      "source": [
        "# Let's take a look at the summary statistics of all the numerical attributes\n",
        "train_data.describe().transpose()"
      ],
      "execution_count": null,
      "outputs": [
        {
          "output_type": "execute_result",
          "data": {
            "text/html": [
              "<div>\n",
              "<style scoped>\n",
              "    .dataframe tbody tr th:only-of-type {\n",
              "        vertical-align: middle;\n",
              "    }\n",
              "\n",
              "    .dataframe tbody tr th {\n",
              "        vertical-align: top;\n",
              "    }\n",
              "\n",
              "    .dataframe thead th {\n",
              "        text-align: right;\n",
              "    }\n",
              "</style>\n",
              "<table border=\"1\" class=\"dataframe\">\n",
              "  <thead>\n",
              "    <tr style=\"text-align: right;\">\n",
              "      <th></th>\n",
              "      <th>count</th>\n",
              "      <th>mean</th>\n",
              "      <th>std</th>\n",
              "      <th>min</th>\n",
              "      <th>25%</th>\n",
              "      <th>50%</th>\n",
              "      <th>75%</th>\n",
              "      <th>max</th>\n",
              "    </tr>\n",
              "  </thead>\n",
              "  <tbody>\n",
              "    <tr>\n",
              "      <th>BATHRM</th>\n",
              "      <td>74986.0</td>\n",
              "      <td>2.034766</td>\n",
              "      <td>1.071893</td>\n",
              "      <td>0.0</td>\n",
              "      <td>1.0</td>\n",
              "      <td>2.0</td>\n",
              "      <td>3.0</td>\n",
              "      <td>24.0</td>\n",
              "    </tr>\n",
              "    <tr>\n",
              "      <th>HF_BATHRM</th>\n",
              "      <td>74985.0</td>\n",
              "      <td>0.608775</td>\n",
              "      <td>0.616843</td>\n",
              "      <td>0.0</td>\n",
              "      <td>0.0</td>\n",
              "      <td>1.0</td>\n",
              "      <td>1.0</td>\n",
              "      <td>11.0</td>\n",
              "    </tr>\n",
              "    <tr>\n",
              "      <th>HEAT</th>\n",
              "      <td>74986.0</td>\n",
              "      <td>7.654362</td>\n",
              "      <td>5.040268</td>\n",
              "      <td>0.0</td>\n",
              "      <td>1.0</td>\n",
              "      <td>7.0</td>\n",
              "      <td>13.0</td>\n",
              "      <td>13.0</td>\n",
              "    </tr>\n",
              "    <tr>\n",
              "      <th>NUM_UNITS</th>\n",
              "      <td>74986.0</td>\n",
              "      <td>1.199104</td>\n",
              "      <td>0.597179</td>\n",
              "      <td>0.0</td>\n",
              "      <td>1.0</td>\n",
              "      <td>1.0</td>\n",
              "      <td>1.0</td>\n",
              "      <td>6.0</td>\n",
              "    </tr>\n",
              "    <tr>\n",
              "      <th>ROOMS</th>\n",
              "      <td>74977.0</td>\n",
              "      <td>7.366766</td>\n",
              "      <td>2.354378</td>\n",
              "      <td>0.0</td>\n",
              "      <td>6.0</td>\n",
              "      <td>7.0</td>\n",
              "      <td>8.0</td>\n",
              "      <td>101.0</td>\n",
              "    </tr>\n",
              "    <tr>\n",
              "      <th>BEDRM</th>\n",
              "      <td>74984.0</td>\n",
              "      <td>3.375320</td>\n",
              "      <td>1.154972</td>\n",
              "      <td>0.0</td>\n",
              "      <td>3.0</td>\n",
              "      <td>3.0</td>\n",
              "      <td>4.0</td>\n",
              "      <td>53.0</td>\n",
              "    </tr>\n",
              "    <tr>\n",
              "      <th>AYB</th>\n",
              "      <td>74996.0</td>\n",
              "      <td>1930.052589</td>\n",
              "      <td>90.606712</td>\n",
              "      <td>0.0</td>\n",
              "      <td>1914.0</td>\n",
              "      <td>1930.0</td>\n",
              "      <td>1947.0</td>\n",
              "      <td>2019.0</td>\n",
              "    </tr>\n",
              "    <tr>\n",
              "      <th>YR_RMDL</th>\n",
              "      <td>34636.0</td>\n",
              "      <td>2000.976903</td>\n",
              "      <td>14.949344</td>\n",
              "      <td>1880.0</td>\n",
              "      <td>1992.0</td>\n",
              "      <td>2006.0</td>\n",
              "      <td>2011.0</td>\n",
              "      <td>2019.0</td>\n",
              "    </tr>\n",
              "    <tr>\n",
              "      <th>EYB</th>\n",
              "      <td>75007.0</td>\n",
              "      <td>1965.637221</td>\n",
              "      <td>36.735057</td>\n",
              "      <td>0.0</td>\n",
              "      <td>1955.0</td>\n",
              "      <td>1964.0</td>\n",
              "      <td>1970.0</td>\n",
              "      <td>2018.0</td>\n",
              "    </tr>\n",
              "    <tr>\n",
              "      <th>STORIES</th>\n",
              "      <td>74947.0</td>\n",
              "      <td>2.096858</td>\n",
              "      <td>3.477009</td>\n",
              "      <td>0.0</td>\n",
              "      <td>2.0</td>\n",
              "      <td>2.0</td>\n",
              "      <td>2.0</td>\n",
              "      <td>826.0</td>\n",
              "    </tr>\n",
              "    <tr>\n",
              "      <th>PRICE</th>\n",
              "      <td>61396.0</td>\n",
              "      <td>384303.854339</td>\n",
              "      <td>560874.654410</td>\n",
              "      <td>0.0</td>\n",
              "      <td>0.0</td>\n",
              "      <td>236500.0</td>\n",
              "      <td>585000.0</td>\n",
              "      <td>25100000.0</td>\n",
              "    </tr>\n",
              "    <tr>\n",
              "      <th>QUALIFIED</th>\n",
              "      <td>75007.0</td>\n",
              "      <td>0.430133</td>\n",
              "      <td>0.495098</td>\n",
              "      <td>0.0</td>\n",
              "      <td>0.0</td>\n",
              "      <td>0.0</td>\n",
              "      <td>1.0</td>\n",
              "      <td>1.0</td>\n",
              "    </tr>\n",
              "    <tr>\n",
              "      <th>SALE_NUM</th>\n",
              "      <td>75007.0</td>\n",
              "      <td>1.619889</td>\n",
              "      <td>1.276526</td>\n",
              "      <td>1.0</td>\n",
              "      <td>1.0</td>\n",
              "      <td>1.0</td>\n",
              "      <td>2.0</td>\n",
              "      <td>15.0</td>\n",
              "    </tr>\n",
              "    <tr>\n",
              "      <th>GBA</th>\n",
              "      <td>75007.0</td>\n",
              "      <td>1717.855920</td>\n",
              "      <td>888.389326</td>\n",
              "      <td>0.0</td>\n",
              "      <td>1190.0</td>\n",
              "      <td>1482.0</td>\n",
              "      <td>1971.0</td>\n",
              "      <td>45384.0</td>\n",
              "    </tr>\n",
              "    <tr>\n",
              "      <th>BLDG_NUM</th>\n",
              "      <td>75007.0</td>\n",
              "      <td>1.001000</td>\n",
              "      <td>0.039819</td>\n",
              "      <td>1.0</td>\n",
              "      <td>1.0</td>\n",
              "      <td>1.0</td>\n",
              "      <td>1.0</td>\n",
              "      <td>5.0</td>\n",
              "    </tr>\n",
              "    <tr>\n",
              "      <th>STYLE</th>\n",
              "      <td>74986.0</td>\n",
              "      <td>4.341624</td>\n",
              "      <td>1.586070</td>\n",
              "      <td>0.0</td>\n",
              "      <td>4.0</td>\n",
              "      <td>4.0</td>\n",
              "      <td>4.0</td>\n",
              "      <td>99.0</td>\n",
              "    </tr>\n",
              "    <tr>\n",
              "      <th>STRUCT</th>\n",
              "      <td>74986.0</td>\n",
              "      <td>4.999947</td>\n",
              "      <td>2.877050</td>\n",
              "      <td>0.0</td>\n",
              "      <td>1.0</td>\n",
              "      <td>7.0</td>\n",
              "      <td>7.0</td>\n",
              "      <td>13.0</td>\n",
              "    </tr>\n",
              "    <tr>\n",
              "      <th>GRADE</th>\n",
              "      <td>74986.0</td>\n",
              "      <td>4.266436</td>\n",
              "      <td>1.367781</td>\n",
              "      <td>0.0</td>\n",
              "      <td>3.0</td>\n",
              "      <td>4.0</td>\n",
              "      <td>5.0</td>\n",
              "      <td>12.0</td>\n",
              "    </tr>\n",
              "    <tr>\n",
              "      <th>CNDTN</th>\n",
              "      <td>74986.0</td>\n",
              "      <td>3.525178</td>\n",
              "      <td>0.717112</td>\n",
              "      <td>0.0</td>\n",
              "      <td>3.0</td>\n",
              "      <td>3.0</td>\n",
              "      <td>4.0</td>\n",
              "      <td>6.0</td>\n",
              "    </tr>\n",
              "    <tr>\n",
              "      <th>EXTWALL</th>\n",
              "      <td>74986.0</td>\n",
              "      <td>13.352279</td>\n",
              "      <td>3.923548</td>\n",
              "      <td>0.0</td>\n",
              "      <td>14.0</td>\n",
              "      <td>14.0</td>\n",
              "      <td>14.0</td>\n",
              "      <td>24.0</td>\n",
              "    </tr>\n",
              "    <tr>\n",
              "      <th>ROOF</th>\n",
              "      <td>74986.0</td>\n",
              "      <td>3.987464</td>\n",
              "      <td>3.349309</td>\n",
              "      <td>0.0</td>\n",
              "      <td>1.0</td>\n",
              "      <td>2.0</td>\n",
              "      <td>6.0</td>\n",
              "      <td>15.0</td>\n",
              "    </tr>\n",
              "    <tr>\n",
              "      <th>INTWALL</th>\n",
              "      <td>74986.0</td>\n",
              "      <td>6.140266</td>\n",
              "      <td>1.951204</td>\n",
              "      <td>0.0</td>\n",
              "      <td>6.0</td>\n",
              "      <td>6.0</td>\n",
              "      <td>6.0</td>\n",
              "      <td>11.0</td>\n",
              "    </tr>\n",
              "    <tr>\n",
              "      <th>KITCHENS</th>\n",
              "      <td>74986.0</td>\n",
              "      <td>1.220641</td>\n",
              "      <td>0.627146</td>\n",
              "      <td>0.0</td>\n",
              "      <td>1.0</td>\n",
              "      <td>1.0</td>\n",
              "      <td>1.0</td>\n",
              "      <td>44.0</td>\n",
              "    </tr>\n",
              "    <tr>\n",
              "      <th>FIREPLACES</th>\n",
              "      <td>74985.0</td>\n",
              "      <td>0.621004</td>\n",
              "      <td>0.896387</td>\n",
              "      <td>0.0</td>\n",
              "      <td>0.0</td>\n",
              "      <td>0.0</td>\n",
              "      <td>1.0</td>\n",
              "      <td>13.0</td>\n",
              "    </tr>\n",
              "    <tr>\n",
              "      <th>USECODE</th>\n",
              "      <td>75007.0</td>\n",
              "      <td>13.149586</td>\n",
              "      <td>5.369147</td>\n",
              "      <td>0.0</td>\n",
              "      <td>11.0</td>\n",
              "      <td>12.0</td>\n",
              "      <td>13.0</td>\n",
              "      <td>995.0</td>\n",
              "    </tr>\n",
              "    <tr>\n",
              "      <th>LANDAREA</th>\n",
              "      <td>75007.0</td>\n",
              "      <td>3425.291413</td>\n",
              "      <td>5565.759205</td>\n",
              "      <td>0.0</td>\n",
              "      <td>1599.0</td>\n",
              "      <td>2369.0</td>\n",
              "      <td>4218.0</td>\n",
              "      <td>691817.0</td>\n",
              "    </tr>\n",
              "  </tbody>\n",
              "</table>\n",
              "</div>"
            ],
            "text/plain": [
              "              count           mean  ...       75%         max\n",
              "BATHRM      74986.0       2.034766  ...       3.0        24.0\n",
              "HF_BATHRM   74985.0       0.608775  ...       1.0        11.0\n",
              "HEAT        74986.0       7.654362  ...      13.0        13.0\n",
              "NUM_UNITS   74986.0       1.199104  ...       1.0         6.0\n",
              "ROOMS       74977.0       7.366766  ...       8.0       101.0\n",
              "BEDRM       74984.0       3.375320  ...       4.0        53.0\n",
              "AYB         74996.0    1930.052589  ...    1947.0      2019.0\n",
              "YR_RMDL     34636.0    2000.976903  ...    2011.0      2019.0\n",
              "EYB         75007.0    1965.637221  ...    1970.0      2018.0\n",
              "STORIES     74947.0       2.096858  ...       2.0       826.0\n",
              "PRICE       61396.0  384303.854339  ...  585000.0  25100000.0\n",
              "QUALIFIED   75007.0       0.430133  ...       1.0         1.0\n",
              "SALE_NUM    75007.0       1.619889  ...       2.0        15.0\n",
              "GBA         75007.0    1717.855920  ...    1971.0     45384.0\n",
              "BLDG_NUM    75007.0       1.001000  ...       1.0         5.0\n",
              "STYLE       74986.0       4.341624  ...       4.0        99.0\n",
              "STRUCT      74986.0       4.999947  ...       7.0        13.0\n",
              "GRADE       74986.0       4.266436  ...       5.0        12.0\n",
              "CNDTN       74986.0       3.525178  ...       4.0         6.0\n",
              "EXTWALL     74986.0      13.352279  ...      14.0        24.0\n",
              "ROOF        74986.0       3.987464  ...       6.0        15.0\n",
              "INTWALL     74986.0       6.140266  ...       6.0        11.0\n",
              "KITCHENS    74986.0       1.220641  ...       1.0        44.0\n",
              "FIREPLACES  74985.0       0.621004  ...       1.0        13.0\n",
              "USECODE     75007.0      13.149586  ...      13.0       995.0\n",
              "LANDAREA    75007.0    3425.291413  ...    4218.0    691817.0\n",
              "\n",
              "[26 rows x 8 columns]"
            ]
          },
          "metadata": {
            "tags": []
          },
          "execution_count": 106
        }
      ]
    },
    {
      "cell_type": "code",
      "metadata": {
        "id": "_f8aZy9-iHP4",
        "colab_type": "code",
        "colab": {}
      },
      "source": [
        "# specify which columns are numerical features and which are categorical features\n",
        "numeric_features = train_data.select_dtypes(include=['int64', 'float64']).drop(['QUALIFIED'], axis=1).columns\n",
        "categorical_features = train_data.select_dtypes(include=['object']).columns"
      ],
      "execution_count": null,
      "outputs": []
    },
    {
      "cell_type": "code",
      "metadata": {
        "id": "RISMXDvNkMfn",
        "colab_type": "code",
        "colab": {
          "base_uri": "https://localhost:8080/",
          "height": 102
        },
        "outputId": "8c755c47-4392-4ab9-c604-3ed22592f516"
      },
      "source": [
        "numeric_features"
      ],
      "execution_count": null,
      "outputs": [
        {
          "output_type": "execute_result",
          "data": {
            "text/plain": [
              "Index(['BATHRM', 'HF_BATHRM', 'HEAT', 'NUM_UNITS', 'ROOMS', 'BEDRM', 'AYB',\n",
              "       'YR_RMDL', 'EYB', 'STORIES', 'PRICE', 'SALE_NUM', 'GBA', 'BLDG_NUM',\n",
              "       'STYLE', 'STRUCT', 'GRADE', 'CNDTN', 'EXTWALL', 'ROOF', 'INTWALL',\n",
              "       'KITCHENS', 'FIREPLACES', 'USECODE', 'LANDAREA'],\n",
              "      dtype='object')"
            ]
          },
          "metadata": {
            "tags": []
          },
          "execution_count": 108
        }
      ]
    },
    {
      "cell_type": "code",
      "metadata": {
        "id": "qufwsyHZkZj8",
        "colab_type": "code",
        "colab": {
          "base_uri": "https://localhost:8080/",
          "height": 68
        },
        "outputId": "7068b6d6-ecee-4832-fb35-b98df5745e90"
      },
      "source": [
        "categorical_features"
      ],
      "execution_count": null,
      "outputs": [
        {
          "output_type": "execute_result",
          "data": {
            "text/plain": [
              "Index(['SSL', 'HEAT_D', 'AC', 'SALEDATE', 'STYLE_D', 'STRUCT_D', 'GRADE_D',\n",
              "       'CNDTN_D', 'EXTWALL_D', 'ROOF_D', 'INTWALL_D', 'GIS_LAST_MOD_DTTM'],\n",
              "      dtype='object')"
            ]
          },
          "metadata": {
            "tags": []
          },
          "execution_count": 109
        }
      ]
    },
    {
      "cell_type": "code",
      "metadata": {
        "id": "EezG-a78YFnO",
        "colab_type": "code",
        "colab": {
          "base_uri": "https://localhost:8080/",
          "height": 1000
        },
        "outputId": "7296ca78-e667-4606-c70e-eadffb17c6d3"
      },
      "source": [
        "for col in categorical_features.tolist():\n",
        "    print(\"===\"+col+\"===\\n\") \n",
        "    print(train_data[col].value_counts())\n",
        "    print(\"\\n\")"
      ],
      "execution_count": null,
      "outputs": [
        {
          "output_type": "stream",
          "text": [
            "===SSL===\n",
            "\n",
            "5881S   0004    5\n",
            "5890    0134    4\n",
            "5890    0123    3\n",
            "0786    0820    3\n",
            "1253    0139    3\n",
            "               ..\n",
            "5001W   0024    1\n",
            "1110    0077    1\n",
            "2312    0063    1\n",
            "5517    0002    1\n",
            "4146    0814    1\n",
            "Name: SSL, Length: 74966, dtype: int64\n",
            "\n",
            "\n",
            "===HEAT_D===\n",
            "\n",
            "Hot Water Rad     30891\n",
            "Forced Air        22635\n",
            "Warm Cool         20097\n",
            "Ht Pump             668\n",
            "Wall Furnace        163\n",
            "Water Base Brd      133\n",
            "Gravity Furnac      101\n",
            "Elec Base Brd        76\n",
            "Air-Oil              69\n",
            "Electric Rad         53\n",
            "No Data              40\n",
            "Evp Cool             25\n",
            "Air Exchng           22\n",
            "Ind Unit             13\n",
            "Name: HEAT_D, dtype: int64\n",
            "\n",
            "\n",
            "===AC===\n",
            "\n",
            "Y    46501\n",
            "N    28448\n",
            "0       37\n",
            "Name: AC, dtype: int64\n",
            "\n",
            "\n",
            "===SALEDATE===\n",
            "\n",
            "1900-01-01T00:00:00.000Z    15941\n",
            "1999-04-01T00:00:00.000Z      152\n",
            "2001-01-01T00:00:00.000Z      126\n",
            "2018-07-03T00:00:00.000Z       46\n",
            "2006-10-12T00:00:00.000Z       45\n",
            "                            ...  \n",
            "1996-05-28T00:00:00.000Z        1\n",
            "1992-09-18T00:00:00.000Z        1\n",
            "2001-04-16T00:00:00.000Z        1\n",
            "1988-07-01T00:00:00.000Z        1\n",
            "1994-12-14T00:00:00.000Z        1\n",
            "Name: SALEDATE, Length: 6612, dtype: int64\n",
            "\n",
            "\n",
            "===STYLE_D===\n",
            "\n",
            "2 Story            56885\n",
            "3 Story             6678\n",
            "2.5 Story Fin       4960\n",
            "1 Story             3160\n",
            "1.5 Story Fin       1903\n",
            "2.5 Story Unfin      474\n",
            "4 Story              249\n",
            "Split Level          223\n",
            "Split Foyer          194\n",
            "3.5 Story Fin        102\n",
            "1.5 Story Unfin       73\n",
            "Default               48\n",
            "Bi-Level              15\n",
            "4.5 Story Fin         12\n",
            "3.5 Story Unfin        6\n",
            "Vacant                 2\n",
            "Outbuildings           1\n",
            "4.5 Story Unfin        1\n",
            "Name: STYLE_D, dtype: int64\n",
            "\n",
            "\n",
            "===STRUCT_D===\n",
            "\n",
            "Row Inside       28494\n",
            "Single           22617\n",
            "Semi-Detached    11694\n",
            "Row End           8603\n",
            "Multi             3360\n",
            "Town Inside        142\n",
            "Town End            53\n",
            "Default             20\n",
            "Vacant Land          3\n",
            "Name: STRUCT_D, dtype: int64\n",
            "\n",
            "\n",
            "===GRADE_D===\n",
            "\n",
            "Average          26361\n",
            "Above Average    22498\n",
            "Good Quality     14554\n",
            "Very Good         6293\n",
            "Excellent         2431\n",
            "Superior          1843\n",
            "Exceptional-A      572\n",
            "Exceptional-B      187\n",
            "Fair Quality       114\n",
            "Exceptional-C       60\n",
            "Exceptional-D       54\n",
            "No Data             14\n",
            "Low Quality          5\n",
            "Name: GRADE_D, dtype: int64\n",
            "\n",
            "\n",
            "===CNDTN_D===\n",
            "\n",
            "Average      40965\n",
            "Good         26324\n",
            "Very Good     5688\n",
            "Excellent      960\n",
            "Fair           913\n",
            "Poor           122\n",
            "Default         14\n",
            "Name: CNDTN_D, dtype: int64\n",
            "\n",
            "\n",
            "===EXTWALL_D===\n",
            "\n",
            "Common Brick      56968\n",
            "Brick/Siding       3860\n",
            "Vinyl Siding       3721\n",
            "Wood Siding        3208\n",
            "Stucco             2284\n",
            "Shingle             810\n",
            "Brick Veneer        758\n",
            "Aluminum            677\n",
            "Stone               518\n",
            "Brick/Stucco        490\n",
            "Brick/Stone         446\n",
            "Face Brick          364\n",
            "Stone/Siding        219\n",
            "Stone Veneer        191\n",
            "Stone/Stucco        167\n",
            "Hardboard            85\n",
            "Concrete             64\n",
            "Metal Siding         45\n",
            "Concrete Block       39\n",
            "Stucco Block         35\n",
            "Default              24\n",
            "Plywood              10\n",
            "SPlaster              1\n",
            "Adobe                 1\n",
            "Rustic Log            1\n",
            "Name: EXTWALL_D, dtype: int64\n",
            "\n",
            "\n",
            "===ROOF_D===\n",
            "\n",
            "Built Up          22158\n",
            "Comp Shingle      21277\n",
            "Metal- Sms        20995\n",
            "Slate              7839\n",
            "Neopren             867\n",
            "Shake               638\n",
            "Clay Tile           459\n",
            "Shingle             306\n",
            "Metal- Pre          171\n",
            "Typical             158\n",
            "Composition Ro       61\n",
            "Metal- Cpr           29\n",
            "Concrete Tile        12\n",
            "Water Proof           7\n",
            "Wood- FS              7\n",
            "Concrete              2\n",
            "Name: ROOF_D, dtype: int64\n",
            "\n",
            "\n",
            "===INTWALL_D===\n",
            "\n",
            "Hardwood         58858\n",
            "Hardwood/Carp     7591\n",
            "Wood Floor        5746\n",
            "Carpet            2516\n",
            "Lt Concrete        102\n",
            "Default             84\n",
            "Ceramic Tile        33\n",
            "Vinyl Comp          19\n",
            "Parquet             15\n",
            "Resiliant           10\n",
            "Vinyl Sheet          9\n",
            "Terrazo              3\n",
            "Name: INTWALL_D, dtype: int64\n",
            "\n",
            "\n",
            "===GIS_LAST_MOD_DTTM===\n",
            "\n",
            "2018-07-22T18:01:43.000Z    75007\n",
            "Name: GIS_LAST_MOD_DTTM, dtype: int64\n",
            "\n",
            "\n"
          ],
          "name": "stdout"
        }
      ]
    },
    {
      "cell_type": "markdown",
      "metadata": {
        "id": "QWg4S9-IqQgw",
        "colab_type": "text"
      },
      "source": [
        "# Pre-Processing"
      ]
    },
    {
      "cell_type": "code",
      "metadata": {
        "id": "mddPPWNpY0ZL",
        "colab_type": "code",
        "colab": {}
      },
      "source": [
        "# Value of '0' in AC column is probably a data error. Replacing '0' with 'N'\n",
        "train_data['AC'] = train_data['AC'].map( lambda x : 'N' if x == '0' else x)"
      ],
      "execution_count": null,
      "outputs": []
    },
    {
      "cell_type": "code",
      "metadata": {
        "id": "xWUQwh9gaPTW",
        "colab_type": "code",
        "colab": {
          "base_uri": "https://localhost:8080/",
          "height": 68
        },
        "outputId": "1734c78f-a553-43d4-d93d-7d0796b0ac9b"
      },
      "source": [
        "train_data['AC'].value_counts()"
      ],
      "execution_count": null,
      "outputs": [
        {
          "output_type": "execute_result",
          "data": {
            "text/plain": [
              "Y    46501\n",
              "N    28485\n",
              "Name: AC, dtype: int64"
            ]
          },
          "metadata": {
            "tags": []
          },
          "execution_count": 112
        }
      ]
    },
    {
      "cell_type": "code",
      "metadata": {
        "id": "U5Y6qpdClrbg",
        "colab_type": "code",
        "colab": {}
      },
      "source": [
        "from sklearn.impute import SimpleImputer\n",
        "from sklearn.preprocessing import StandardScaler, OneHotEncoder\n",
        "from sklearn.pipeline import Pipeline\n",
        "\n",
        "numeric_transformer = Pipeline(steps=[\n",
        "    ('imputer', SimpleImputer(strategy='median')),\n",
        "    ('scaler', StandardScaler())])\n",
        "categorical_transformer = Pipeline(steps=[\n",
        "    ('imputer', SimpleImputer(strategy='constant', fill_value='missing')),\n",
        "    ('onehot', OneHotEncoder(handle_unknown='ignore'))])"
      ],
      "execution_count": null,
      "outputs": []
    },
    {
      "cell_type": "code",
      "metadata": {
        "id": "AfJTGwKEl6W6",
        "colab_type": "code",
        "colab": {}
      },
      "source": [
        "from sklearn.compose import ColumnTransformer\n",
        "preprocessor = ColumnTransformer(\n",
        "    transformers=[\n",
        "        ('num', numeric_transformer, numeric_features),\n",
        "        ('cat', categorical_transformer, categorical_features)])"
      ],
      "execution_count": null,
      "outputs": []
    },
    {
      "cell_type": "markdown",
      "metadata": {
        "id": "xoUl7iWQqgod",
        "colab_type": "text"
      },
      "source": [
        "# Explore different models and shortlist the best ones"
      ]
    },
    {
      "cell_type": "code",
      "metadata": {
        "id": "cuzqBiCimB5H",
        "colab_type": "code",
        "colab": {}
      },
      "source": [
        "# splitting the training data into a train and test set\n",
        "from sklearn.model_selection import train_test_split\n",
        "X = train_data.drop('QUALIFIED', axis=1)\n",
        "y = train_data['QUALIFIED']\n",
        "X_train, X_test, y_train, y_test = train_test_split(X, y, test_size=0.2,random_state=10)"
      ],
      "execution_count": null,
      "outputs": []
    },
    {
      "cell_type": "code",
      "metadata": {
        "id": "dgxlnEE7u7xF",
        "colab_type": "code",
        "colab": {
          "base_uri": "https://localhost:8080/",
          "height": 34
        },
        "outputId": "fca92e81-11bc-4d5a-e575-61c79b755a85"
      },
      "source": [
        "# Baseline Model\n",
        "from sklearn.dummy import DummyClassifier\n",
        "dummy_clfr = Pipeline(steps=[('preprocessor', preprocessor),\n",
        "                      ('classifier', DummyClassifier())])\n",
        "dummy_clfr.fit(X_train, y_train)\n",
        "#dummy_clfr.score(X_test, y_test)  # accuracy\n",
        "print(\"model score: %.3f\" % dummy_clfr.score(X_test, y_test)) # accuracy"
      ],
      "execution_count": null,
      "outputs": [
        {
          "output_type": "stream",
          "text": [
            "model score: 0.509\n"
          ],
          "name": "stdout"
        }
      ]
    },
    {
      "cell_type": "code",
      "metadata": {
        "id": "aPsWfHMQ4RO1",
        "colab_type": "code",
        "colab": {}
      },
      "source": [
        "from sklearn.metrics import accuracy_score, log_loss\n",
        "from sklearn.neighbors import KNeighborsClassifier\n",
        "from sklearn.linear_model import LogisticRegression\n",
        "from sklearn.svm import SVC, LinearSVC, NuSVC\n",
        "from sklearn.tree import DecisionTreeClassifier\n",
        "from sklearn.ensemble import RandomForestClassifier, AdaBoostClassifier, GradientBoostingClassifier\n",
        "import xgboost as xgb"
      ],
      "execution_count": null,
      "outputs": []
    },
    {
      "cell_type": "code",
      "metadata": {
        "id": "E1-vauAc4V_1",
        "colab_type": "code",
        "colab": {
          "base_uri": "https://localhost:8080/",
          "height": 878
        },
        "outputId": "968ffe15-4a09-4161-cd41-faed22451a74"
      },
      "source": [
        "classifiers = [\n",
        "    KNeighborsClassifier(3),\n",
        "    LogisticRegression(solver='lbfgs'),\n",
        "    SVC(kernel=\"rbf\", C=0.025, probability=True),\n",
        "    #NuSVC(probability=True),\n",
        "    DecisionTreeClassifier(),\n",
        "    RandomForestClassifier(),\n",
        "    AdaBoostClassifier(),\n",
        "    GradientBoostingClassifier(),\n",
        "    xgb.XGBClassifier()\n",
        "    ]\n",
        "for classifier in classifiers:\n",
        "    pipe = Pipeline(steps=[('preprocessor', preprocessor),\n",
        "                      ('classifier', classifier)])\n",
        "    pipe.fit(X_train, y_train)   \n",
        "    print(classifier)\n",
        "    print(\"model score: %.3f\" % pipe.score(X_test, y_test))"
      ],
      "execution_count": null,
      "outputs": [
        {
          "output_type": "stream",
          "text": [
            "KNeighborsClassifier(algorithm='auto', leaf_size=30, metric='minkowski',\n",
            "                     metric_params=None, n_jobs=None, n_neighbors=3, p=2,\n",
            "                     weights='uniform')\n",
            "model score: 0.774\n",
            "LogisticRegression(C=1.0, class_weight=None, dual=False, fit_intercept=True,\n",
            "                   intercept_scaling=1, l1_ratio=None, max_iter=100,\n",
            "                   multi_class='auto', n_jobs=None, penalty='l2',\n",
            "                   random_state=None, solver='lbfgs', tol=0.0001, verbose=0,\n",
            "                   warm_start=False)\n",
            "model score: 0.872\n",
            "SVC(C=0.025, break_ties=False, cache_size=200, class_weight=None, coef0=0.0,\n",
            "    decision_function_shape='ovr', degree=3, gamma='scale', kernel='rbf',\n",
            "    max_iter=-1, probability=True, random_state=None, shrinking=True, tol=0.001,\n",
            "    verbose=False)\n",
            "model score: 0.851\n",
            "DecisionTreeClassifier(ccp_alpha=0.0, class_weight=None, criterion='gini',\n",
            "                       max_depth=None, max_features=None, max_leaf_nodes=None,\n",
            "                       min_impurity_decrease=0.0, min_impurity_split=None,\n",
            "                       min_samples_leaf=1, min_samples_split=2,\n",
            "                       min_weight_fraction_leaf=0.0, presort='deprecated',\n",
            "                       random_state=None, splitter='best')\n",
            "model score: 0.881\n",
            "RandomForestClassifier(bootstrap=True, ccp_alpha=0.0, class_weight=None,\n",
            "                       criterion='gini', max_depth=None, max_features='auto',\n",
            "                       max_leaf_nodes=None, max_samples=None,\n",
            "                       min_impurity_decrease=0.0, min_impurity_split=None,\n",
            "                       min_samples_leaf=1, min_samples_split=2,\n",
            "                       min_weight_fraction_leaf=0.0, n_estimators=100,\n",
            "                       n_jobs=None, oob_score=False, random_state=None,\n",
            "                       verbose=0, warm_start=False)\n",
            "model score: 0.856\n",
            "AdaBoostClassifier(algorithm='SAMME.R', base_estimator=None, learning_rate=1.0,\n",
            "                   n_estimators=50, random_state=None)\n",
            "model score: 0.892\n",
            "GradientBoostingClassifier(ccp_alpha=0.0, criterion='friedman_mse', init=None,\n",
            "                           learning_rate=0.1, loss='deviance', max_depth=3,\n",
            "                           max_features=None, max_leaf_nodes=None,\n",
            "                           min_impurity_decrease=0.0, min_impurity_split=None,\n",
            "                           min_samples_leaf=1, min_samples_split=2,\n",
            "                           min_weight_fraction_leaf=0.0, n_estimators=100,\n",
            "                           n_iter_no_change=None, presort='deprecated',\n",
            "                           random_state=None, subsample=1.0, tol=0.0001,\n",
            "                           validation_fraction=0.1, verbose=0,\n",
            "                           warm_start=False)\n",
            "model score: 0.895\n",
            "XGBClassifier(base_score=0.5, booster='gbtree', colsample_bylevel=1,\n",
            "              colsample_bynode=1, colsample_bytree=1, gamma=0,\n",
            "              learning_rate=0.1, max_delta_step=0, max_depth=3,\n",
            "              min_child_weight=1, missing=None, n_estimators=100, n_jobs=1,\n",
            "              nthread=None, objective='binary:logistic', random_state=0,\n",
            "              reg_alpha=0, reg_lambda=1, scale_pos_weight=1, seed=None,\n",
            "              silent=None, subsample=1, verbosity=1)\n",
            "model score: 0.897\n"
          ],
          "name": "stdout"
        }
      ]
    },
    {
      "cell_type": "code",
      "metadata": {
        "id": "DcjMZGQ_impX",
        "colab_type": "code",
        "colab": {}
      },
      "source": [
        "# https://xgboost.readthedocs.io/en/latest/parameter.html\n",
        "param_grid = {\n",
        "    'classifier__scale_pos_weight': [1, 3],\n",
        "    'classifier__learning_rate': [0.1, 0.01],\n",
        "    'classifier__subsample': [0.6, 0.8, 1.0],\n",
        "    'classifier__gamma': [2, 5, 10],\n",
        "    'classifier__max_depth' : [3, 4, 6],\n",
        "    'classifier__objective' : ['binary:logistic', 'binary:logitraw'],\n",
        "    'classifier__colsample_bytree': [0.6, 0.8, 1.0],\n",
        "    'classifier__reg_alpha': [0.3, 0.6, 1.0],\n",
        "    'classifier__n_estimators': [600, 800, 1000]}\n",
        "from sklearn.model_selection import GridSearchCV\n",
        "CV = GridSearchCV(xgb_clfr, param_grid, n_jobs= 1)\n",
        "                  \n",
        "CV.fit(X_train, y_train)  \n",
        "print(CV.best_params_)    \n",
        "print(CV.best_score_)"
      ],
      "execution_count": null,
      "outputs": []
    },
    {
      "cell_type": "code",
      "metadata": {
        "id": "bRdLjLU3QzW7",
        "colab_type": "code",
        "colab": {
          "base_uri": "https://localhost:8080/",
          "height": 34
        },
        "outputId": "98e3f41b-e0a0-4e80-abce-cd6bbe8e821e"
      },
      "source": [
        "xgb_clfr = Pipeline(steps=[('preprocessor', preprocessor),\n",
        "                      ('classifier', xgb.XGBClassifier(silent=False,\n",
        "                                                        scale_pos_weight=1,\n",
        "                                                        learning_rate=0.1,  \n",
        "                                                        colsample_bytree = 0.8,\n",
        "                                                        subsample = 0.8,\n",
        "                                                        objective='binary:logistic',\n",
        "                                                        n_estimators=1000,\n",
        "                                                        reg_alpha = 0.3,\n",
        "                                                        max_depth=6, \n",
        "                                                        gamma=10))])\n",
        "xgb_clfr.fit(X_train, y_train)\n",
        "print(\"model score: %.3f\" % xgb_clfr.score(X_test, y_test))"
      ],
      "execution_count": null,
      "outputs": [
        {
          "output_type": "stream",
          "text": [
            "model score: 0.902\n"
          ],
          "name": "stdout"
        }
      ]
    },
    {
      "cell_type": "code",
      "metadata": {
        "id": "P_o0ADn9cNp4",
        "colab_type": "code",
        "colab": {}
      },
      "source": [
        "from sklearn.metrics import confusion_matrix\n",
        "y_pred = xgb_clfr.predict(X_test)\n",
        "cm = confusion_matrix(y_test, y_pred)"
      ],
      "execution_count": 129,
      "outputs": []
    },
    {
      "cell_type": "code",
      "metadata": {
        "id": "ADBgcQxffN_X",
        "colab_type": "code",
        "colab": {
          "base_uri": "https://localhost:8080/",
          "height": 295
        },
        "outputId": "cf2e3cc3-562c-414a-c1f3-038f03f48ff7"
      },
      "source": [
        "import seaborn as sns\n",
        "import matplotlib.pyplot as plt     \n",
        "\n",
        "ax= plt.subplot()\n",
        "sns.heatmap(cm, annot=True, cbar=False, fmt='g')\n",
        "\n",
        "# labels, title and ticks\n",
        "ax.set_xlabel('Predicted labels');ax.set_ylabel('True labels'); \n",
        "ax.set_title('Confusion Matrix'); \n",
        "ax.xaxis.set_ticklabels(['Qualified', 'Unqualified']); ax.yaxis.set_ticklabels(['Qualified', 'Unqualified']);"
      ],
      "execution_count": null,
      "outputs": [
        {
          "output_type": "display_data",
          "data": {
            "image/png": "[encoded data removed]",
            "text/plain": [
              "<Figure size 432x288 with 1 Axes>"
            ]
          },
          "metadata": {
            "tags": [],
            "needs_background": "light"
          }
        }
      ]
    },
    {
      "cell_type": "code",
      "metadata": {
        "id": "YMC2nlgXhhAw",
        "colab_type": "code",
        "colab": {}
      },
      "source": [
        "from sklearn.metrics import precision_score\n",
        "from sklearn.metrics import recall_score\n",
        "from sklearn.metrics import f1_score"
      ],
      "execution_count": 130,
      "outputs": []
    },
    {
      "cell_type": "code",
      "metadata": {
        "id": "WJGISFGRhjsl",
        "colab_type": "code",
        "colab": {
          "base_uri": "https://localhost:8080/",
          "height": 68
        },
        "outputId": "0829e7fc-b726-49d6-8a5c-de9bcffd1027"
      },
      "source": [
        "print('Precision is:'+str(round(precision_score(y_test, y_pred),2)))\n",
        "print('Recall is:'+str(round(recall_score(y_test, y_pred, average='binary'),2)))\n",
        "print('F1 score is:'+str(round(f1_score(y_test, y_pred, average='binary'),2)))"
      ],
      "execution_count": 131,
      "outputs": [
        {
          "output_type": "stream",
          "text": [
            "Precision is:0.83\n",
            "Recall is:0.97\n",
            "F1 score is:0.89\n"
          ],
          "name": "stdout"
        }
      ]
    },
    {
      "cell_type": "markdown",
      "metadata": {
        "id": "L-bG_lSgz5v5",
        "colab_type": "text"
      },
      "source": [
        "# For Kaggle Submission"
      ]
    },
    {
      "cell_type": "code",
      "metadata": {
        "id": "ZhTV-So8nkVX",
        "colab_type": "code",
        "colab": {}
      },
      "source": [
        "test_no_id = test_data.drop('row ID', axis=1)"
      ],
      "execution_count": null,
      "outputs": []
    },
    {
      "cell_type": "code",
      "metadata": {
        "id": "sBseePz4ny0j",
        "colab_type": "code",
        "colab": {}
      },
      "source": [
        "test_predictions = xgb_clfr.predict(test_no_id)"
      ],
      "execution_count": null,
      "outputs": []
    },
    {
      "cell_type": "code",
      "metadata": {
        "id": "7y7CF-Ws2kLn",
        "colab_type": "code",
        "colab": {
          "base_uri": "https://localhost:8080/",
          "height": 34
        },
        "outputId": "4f49e321-7140-481b-efdd-d86485e7a4ac"
      },
      "source": [
        "test_predictions"
      ],
      "execution_count": null,
      "outputs": [
        {
          "output_type": "execute_result",
          "data": {
            "text/plain": [
              "array([0, 1, 0, ..., 0, 1, 0])"
            ]
          },
          "metadata": {
            "tags": []
          },
          "execution_count": 67
        }
      ]
    },
    {
      "cell_type": "code",
      "metadata": {
        "id": "leSiwFaAn8bs",
        "colab_type": "code",
        "colab": {}
      },
      "source": [
        "Row_ID = test_data['row ID']\n",
        "submission_df = pd.DataFrame({\n",
        "                  \"row ID\": Row_ID, \n",
        "                  \"QUALIFIED\": test_predictions})"
      ],
      "execution_count": null,
      "outputs": []
    },
    {
      "cell_type": "code",
      "metadata": {
        "id": "nBifMt_VonEK",
        "colab_type": "code",
        "colab": {
          "base_uri": "https://localhost:8080/",
          "height": 204
        },
        "outputId": "e933b8a0-29f3-49db-9de9-16b559a7d3b0"
      },
      "source": [
        "submission_df.head()"
      ],
      "execution_count": null,
      "outputs": [
        {
          "output_type": "execute_result",
          "data": {
            "text/html": [
              "<div>\n",
              "<style scoped>\n",
              "    .dataframe tbody tr th:only-of-type {\n",
              "        vertical-align: middle;\n",
              "    }\n",
              "\n",
              "    .dataframe tbody tr th {\n",
              "        vertical-align: top;\n",
              "    }\n",
              "\n",
              "    .dataframe thead th {\n",
              "        text-align: right;\n",
              "    }\n",
              "</style>\n",
              "<table border=\"1\" class=\"dataframe\">\n",
              "  <thead>\n",
              "    <tr style=\"text-align: right;\">\n",
              "      <th></th>\n",
              "      <th>row ID</th>\n",
              "      <th>QUALIFIED</th>\n",
              "    </tr>\n",
              "  </thead>\n",
              "  <tbody>\n",
              "    <tr>\n",
              "      <th>0</th>\n",
              "      <td>41787</td>\n",
              "      <td>0</td>\n",
              "    </tr>\n",
              "    <tr>\n",
              "      <th>1</th>\n",
              "      <td>89676</td>\n",
              "      <td>1</td>\n",
              "    </tr>\n",
              "    <tr>\n",
              "      <th>2</th>\n",
              "      <td>2028</td>\n",
              "      <td>0</td>\n",
              "    </tr>\n",
              "    <tr>\n",
              "      <th>3</th>\n",
              "      <td>53179</td>\n",
              "      <td>0</td>\n",
              "    </tr>\n",
              "    <tr>\n",
              "      <th>4</th>\n",
              "      <td>58438</td>\n",
              "      <td>1</td>\n",
              "    </tr>\n",
              "  </tbody>\n",
              "</table>\n",
              "</div>"
            ],
            "text/plain": [
              "   row ID  QUALIFIED\n",
              "0   41787          0\n",
              "1   89676          1\n",
              "2    2028          0\n",
              "3   53179          0\n",
              "4   58438          1"
            ]
          },
          "metadata": {
            "tags": []
          },
          "execution_count": 69
        }
      ]
    },
    {
      "cell_type": "code",
      "metadata": {
        "id": "53x_HKXLwMer",
        "colab_type": "code",
        "colab": {}
      },
      "source": [
        "submission_df.to_csv(KAGGLE_SUBMISSION_PATH+'/'+'submission.csv', index=False)"
      ],
      "execution_count": null,
      "outputs": []
    }
  ]
}